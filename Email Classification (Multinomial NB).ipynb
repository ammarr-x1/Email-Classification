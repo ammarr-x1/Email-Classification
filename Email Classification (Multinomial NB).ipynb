{
 "cells": [
  {
   "cell_type": "code",
   "execution_count": 1,
   "id": "760aa365",
   "metadata": {},
   "outputs": [],
   "source": [
    "import pandas as pd"
   ]
  },
  {
   "cell_type": "code",
   "execution_count": 2,
   "id": "11cc9098",
   "metadata": {},
   "outputs": [],
   "source": [
    "data = pd.read_csv('enron_spam_data.csv')"
   ]
  },
  {
   "cell_type": "code",
   "execution_count": 3,
   "id": "ec485c7c",
   "metadata": {},
   "outputs": [],
   "source": [
    "ham_emails = data[data['Spam/Ham'] == 'ham']\n",
    "spam_emails = data[data['Spam/Ham'] == 'spam']"
   ]
  },
  {
   "cell_type": "code",
   "execution_count": 4,
   "id": "d32670ed",
   "metadata": {},
   "outputs": [],
   "source": [
    "ham_to_delete = ham_emails.sample(n=2000, random_state=42)\n",
    "spam_to_delete = spam_emails.sample(n=2000, random_state=42)"
   ]
  },
  {
   "cell_type": "code",
   "execution_count": 5,
   "id": "4fe48adf",
   "metadata": {},
   "outputs": [],
   "source": [
    "data_cleaned = data.drop(ham_to_delete.index).drop(spam_to_delete.index)"
   ]
  },
  {
   "cell_type": "code",
   "execution_count": 6,
   "id": "9e98b75b",
   "metadata": {},
   "outputs": [],
   "source": [
    "data_cleaned.to_csv('cleaned_emails.csv',index = False)"
   ]
  },
  {
   "cell_type": "code",
   "execution_count": 8,
   "id": "7b34e8df",
   "metadata": {},
   "outputs": [],
   "source": [
    "df = pd.read_csv('cleaned_emails.csv')"
   ]
  },
  {
   "cell_type": "code",
   "execution_count": 9,
   "id": "bcd6c2da",
   "metadata": {},
   "outputs": [],
   "source": [
    "df = df.drop(columns =['Date'])"
   ]
  },
  {
   "cell_type": "code",
   "execution_count": 10,
   "id": "bec11d73",
   "metadata": {},
   "outputs": [
    {
     "data": {
      "text/plain": [
       "<bound method NDFrame.head of        Message ID                                            Subject  \\\n",
       "0               0                       christmas tree farm pictures   \n",
       "1               1                           vastar resources , inc .   \n",
       "2               2                       calpine daily gas nomination   \n",
       "3               4                          meter 7268 nov allocation   \n",
       "4               5                           mcmullen gas for 11 / 99   \n",
       "...           ...                                                ...   \n",
       "29711       33708                                           proposal   \n",
       "29712       33709                         cure premature ejaculation   \n",
       "29713       33710                                   need your vics ?   \n",
       "29714       33711  = ? iso - 8859 - 1 ? q ? good _ news _ c = eda...   \n",
       "29715       33713              the next generation online pharmacy .   \n",
       "\n",
       "                                                 Message Spam/Ham  \n",
       "0                                                    NaN      ham  \n",
       "1      gary , production from the high island larger ...      ham  \n",
       "2                 - calpine daily gas nomination 1 . doc      ham  \n",
       "3      fyi .\\n- - - - - - - - - - - - - - - - - - - -...      ham  \n",
       "4      jackie ,\\nsince the inlet to 3 river plant is ...      ham  \n",
       "...                                                  ...      ...  \n",
       "29711  dear sir ,\\nfirst i must solicit your strictes...     spam  \n",
       "29712  hello ,\\ndid you ejaculate before or within a ...     spam  \n",
       "29713  brand name meds such as vics , vals , xanies a...     spam  \n",
       "29714  hello , welcome to gigapharm onlinne shop .\\np...     spam  \n",
       "29715  are you ready to rock on ? let the man in you ...     spam  \n",
       "\n",
       "[29716 rows x 4 columns]>"
      ]
     },
     "execution_count": 10,
     "metadata": {},
     "output_type": "execute_result"
    }
   ],
   "source": [
    "df.head"
   ]
  },
  {
   "cell_type": "code",
   "execution_count": 11,
   "id": "19ec74c3",
   "metadata": {},
   "outputs": [],
   "source": [
    "df['Subject'] = df['Subject'].fillna('')\n",
    "df['Message'] = df['Message'].fillna('')\n",
    "df['Spam/Ham']  = df['Spam/Ham'].fillna('')"
   ]
  },
  {
   "cell_type": "code",
   "execution_count": 12,
   "id": "1b5db517",
   "metadata": {},
   "outputs": [],
   "source": [
    "df.head\n",
    "df['content'] = df['Subject'] + ' ' + df['Message']"
   ]
  },
  {
   "cell_type": "code",
   "execution_count": 13,
   "id": "7491d61a",
   "metadata": {},
   "outputs": [],
   "source": [
    "X = df['content']\n",
    "y = df['Spam/Ham']"
   ]
  },
  {
   "cell_type": "code",
   "execution_count": 14,
   "id": "d7f1dccc",
   "metadata": {},
   "outputs": [],
   "source": [
    "from sklearn.model_selection import train_test_split\n",
    "from sklearn.feature_extraction.text import TfidfVectorizer"
   ]
  },
  {
   "cell_type": "code",
   "execution_count": 15,
   "id": "88d0c938",
   "metadata": {},
   "outputs": [],
   "source": [
    "X_train, X_test, y_train, y_test = train_test_split(X, y, test_size=0.3, random_state=42)"
   ]
  },
  {
   "cell_type": "code",
   "execution_count": 16,
   "id": "1e283909",
   "metadata": {},
   "outputs": [],
   "source": [
    "vectorizer = TfidfVectorizer()\n",
    "X_train_tfidf = vectorizer.fit_transform(X_train)\n",
    "X_test_tfidf = vectorizer.transform(X_test)"
   ]
  },
  {
   "cell_type": "code",
   "execution_count": 17,
   "id": "b0ccfd47",
   "metadata": {},
   "outputs": [],
   "source": [
    "from sklearn.naive_bayes import MultinomialNB\n",
    "from sklearn.metrics import accuracy_score,classification_report,confusion_matrix"
   ]
  },
  {
   "cell_type": "code",
   "execution_count": 18,
   "id": "8f901f81",
   "metadata": {},
   "outputs": [
    {
     "data": {
      "text/html": [
       "<style>#sk-container-id-1 {color: black;}#sk-container-id-1 pre{padding: 0;}#sk-container-id-1 div.sk-toggleable {background-color: white;}#sk-container-id-1 label.sk-toggleable__label {cursor: pointer;display: block;width: 100%;margin-bottom: 0;padding: 0.3em;box-sizing: border-box;text-align: center;}#sk-container-id-1 label.sk-toggleable__label-arrow:before {content: \"▸\";float: left;margin-right: 0.25em;color: #696969;}#sk-container-id-1 label.sk-toggleable__label-arrow:hover:before {color: black;}#sk-container-id-1 div.sk-estimator:hover label.sk-toggleable__label-arrow:before {color: black;}#sk-container-id-1 div.sk-toggleable__content {max-height: 0;max-width: 0;overflow: hidden;text-align: left;background-color: #f0f8ff;}#sk-container-id-1 div.sk-toggleable__content pre {margin: 0.2em;color: black;border-radius: 0.25em;background-color: #f0f8ff;}#sk-container-id-1 input.sk-toggleable__control:checked~div.sk-toggleable__content {max-height: 200px;max-width: 100%;overflow: auto;}#sk-container-id-1 input.sk-toggleable__control:checked~label.sk-toggleable__label-arrow:before {content: \"▾\";}#sk-container-id-1 div.sk-estimator input.sk-toggleable__control:checked~label.sk-toggleable__label {background-color: #d4ebff;}#sk-container-id-1 div.sk-label input.sk-toggleable__control:checked~label.sk-toggleable__label {background-color: #d4ebff;}#sk-container-id-1 input.sk-hidden--visually {border: 0;clip: rect(1px 1px 1px 1px);clip: rect(1px, 1px, 1px, 1px);height: 1px;margin: -1px;overflow: hidden;padding: 0;position: absolute;width: 1px;}#sk-container-id-1 div.sk-estimator {font-family: monospace;background-color: #f0f8ff;border: 1px dotted black;border-radius: 0.25em;box-sizing: border-box;margin-bottom: 0.5em;}#sk-container-id-1 div.sk-estimator:hover {background-color: #d4ebff;}#sk-container-id-1 div.sk-parallel-item::after {content: \"\";width: 100%;border-bottom: 1px solid gray;flex-grow: 1;}#sk-container-id-1 div.sk-label:hover label.sk-toggleable__label {background-color: #d4ebff;}#sk-container-id-1 div.sk-serial::before {content: \"\";position: absolute;border-left: 1px solid gray;box-sizing: border-box;top: 0;bottom: 0;left: 50%;z-index: 0;}#sk-container-id-1 div.sk-serial {display: flex;flex-direction: column;align-items: center;background-color: white;padding-right: 0.2em;padding-left: 0.2em;position: relative;}#sk-container-id-1 div.sk-item {position: relative;z-index: 1;}#sk-container-id-1 div.sk-parallel {display: flex;align-items: stretch;justify-content: center;background-color: white;position: relative;}#sk-container-id-1 div.sk-item::before, #sk-container-id-1 div.sk-parallel-item::before {content: \"\";position: absolute;border-left: 1px solid gray;box-sizing: border-box;top: 0;bottom: 0;left: 50%;z-index: -1;}#sk-container-id-1 div.sk-parallel-item {display: flex;flex-direction: column;z-index: 1;position: relative;background-color: white;}#sk-container-id-1 div.sk-parallel-item:first-child::after {align-self: flex-end;width: 50%;}#sk-container-id-1 div.sk-parallel-item:last-child::after {align-self: flex-start;width: 50%;}#sk-container-id-1 div.sk-parallel-item:only-child::after {width: 0;}#sk-container-id-1 div.sk-dashed-wrapped {border: 1px dashed gray;margin: 0 0.4em 0.5em 0.4em;box-sizing: border-box;padding-bottom: 0.4em;background-color: white;}#sk-container-id-1 div.sk-label label {font-family: monospace;font-weight: bold;display: inline-block;line-height: 1.2em;}#sk-container-id-1 div.sk-label-container {text-align: center;}#sk-container-id-1 div.sk-container {/* jupyter's `normalize.less` sets `[hidden] { display: none; }` but bootstrap.min.css set `[hidden] { display: none !important; }` so we also need the `!important` here to be able to override the default hidden behavior on the sphinx rendered scikit-learn.org. See: https://github.com/scikit-learn/scikit-learn/issues/21755 */display: inline-block !important;position: relative;}#sk-container-id-1 div.sk-text-repr-fallback {display: none;}</style><div id=\"sk-container-id-1\" class=\"sk-top-container\"><div class=\"sk-text-repr-fallback\"><pre>MultinomialNB()</pre><b>In a Jupyter environment, please rerun this cell to show the HTML representation or trust the notebook. <br />On GitHub, the HTML representation is unable to render, please try loading this page with nbviewer.org.</b></div><div class=\"sk-container\" hidden><div class=\"sk-item\"><div class=\"sk-estimator sk-toggleable\"><input class=\"sk-toggleable__control sk-hidden--visually\" id=\"sk-estimator-id-1\" type=\"checkbox\" checked><label for=\"sk-estimator-id-1\" class=\"sk-toggleable__label sk-toggleable__label-arrow\">MultinomialNB</label><div class=\"sk-toggleable__content\"><pre>MultinomialNB()</pre></div></div></div></div></div>"
      ],
      "text/plain": [
       "MultinomialNB()"
      ]
     },
     "execution_count": 18,
     "metadata": {},
     "output_type": "execute_result"
    }
   ],
   "source": [
    "nb_model = MultinomialNB()\n",
    "nb_model.fit(X_train_tfidf,y_train)"
   ]
  },
  {
   "cell_type": "code",
   "execution_count": 19,
   "id": "3ca179cb",
   "metadata": {},
   "outputs": [],
   "source": [
    "y_pred = nb_model.predict(X_test_tfidf)"
   ]
  },
  {
   "cell_type": "code",
   "execution_count": 22,
   "id": "a34c415f",
   "metadata": {},
   "outputs": [
    {
     "name": "stdout",
     "output_type": "stream",
     "text": [
      "Accuracy: 0.9899046550757151\n",
      "Classification Report:\n",
      "               precision    recall  f1-score   support\n",
      "\n",
      "         ham       0.99      0.99      0.99      4456\n",
      "        spam       0.99      0.99      0.99      4459\n",
      "\n",
      "    accuracy                           0.99      8915\n",
      "   macro avg       0.99      0.99      0.99      8915\n",
      "weighted avg       0.99      0.99      0.99      8915\n",
      "\n",
      "Confusion Matrix: \n",
      " [[4410   46]\n",
      " [  44 4415]]\n"
     ]
    }
   ],
   "source": [
    "accuracy = accuracy_score(y_test, y_pred)\n",
    "report = classification_report(y_test, y_pred)\n",
    "conf_matrix = confusion_matrix(y_test, y_pred)\n",
    "\n",
    "print(f\"Accuracy: {accuracy}\")\n",
    "print(\"Classification Report:\\n\", report)\n",
    "print(\"Confusion Matrix: \\n\",conf_matrix)"
   ]
  },
  {
   "cell_type": "markdown",
   "id": "c5974d49",
   "metadata": {},
   "source": [
    "<font color = 'Blue'><b>Naive Bayes</b> Multinomial</font>"
   ]
  },
  {
   "cell_type": "code",
   "execution_count": 21,
   "id": "8ccd600a",
   "metadata": {},
   "outputs": [
    {
     "name": "stdout",
     "output_type": "stream",
     "text": [
      "This email is: spam\n"
     ]
    }
   ],
   "source": [
    "def classify_emails(subject,message):\n",
    "    combined_txt = subject + '' + message\n",
    "    input_tfidf = vectorizer.transform([combined_txt])\n",
    "    prediction = nb_model.predict(input_tfidf)[0]\n",
    "    return 'spam' if prediction == 'spam' else 'ham'\n",
    "\n",
    "subject = \"Congratulations! You've won a prize\"\n",
    "message = \"Click here to claim your $1,000,000 prize now!\"\n",
    "result = classify_emails(subject, message)\n",
    "print(f\"This email is: {result}\")"
   ]
  },
  {
   "cell_type": "code",
   "execution_count": null,
   "id": "028b5d73",
   "metadata": {},
   "outputs": [],
   "source": []
  }
 ],
 "metadata": {
  "kernelspec": {
   "display_name": "Python 3 (ipykernel)",
   "language": "python",
   "name": "python3"
  },
  "language_info": {
   "codemirror_mode": {
    "name": "ipython",
    "version": 3
   },
   "file_extension": ".py",
   "mimetype": "text/x-python",
   "name": "python",
   "nbconvert_exporter": "python",
   "pygments_lexer": "ipython3",
   "version": "3.11.5"
  }
 },
 "nbformat": 4,
 "nbformat_minor": 5
}
